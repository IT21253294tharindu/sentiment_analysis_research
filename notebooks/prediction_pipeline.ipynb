{
 "cells": [
  {
   "cell_type": "code",
   "execution_count": 1,
   "id": "d10a70e5-0f33-43e1-ba3c-6a75bb3d9354",
   "metadata": {},
   "outputs": [],
   "source": [
    "import numpy as np\n",
    "import pandas as pd\n",
    "import re\n",
    "import string\n",
    "import pickle"
   ]
  },
  {
   "cell_type": "code",
   "execution_count": 2,
   "id": "c8a6d759-b202-48b0-b70e-10215341e1f3",
   "metadata": {},
   "outputs": [],
   "source": [
    "with open('../static/model/sentiment_model.pickle', 'rb') as f:\n",
    "    model=pickle.load(f)"
   ]
  },
  {
   "cell_type": "code",
   "execution_count": 3,
   "id": "ec30a116-c344-4a10-bbc1-dc28d1c1b5e9",
   "metadata": {},
   "outputs": [],
   "source": [
    "with open('../static/model/categorization_model.pickle', 'rb') as f:\n",
    "    modelc=pickle.load(f)"
   ]
  },
  {
   "cell_type": "code",
   "execution_count": 4,
   "id": "c15da4be-0ffd-43c0-93b8-c394f1a59740",
   "metadata": {},
   "outputs": [],
   "source": [
    "def remove_punctuation(text):\n",
    "    for punctuation in string.punctuation:\n",
    "        text = text.replace(punctuation, '')\n",
    "    return text"
   ]
  },
  {
   "cell_type": "code",
   "execution_count": 5,
   "id": "ed5f586b-409a-41b1-8fa3-3e2a83bc2679",
   "metadata": {},
   "outputs": [],
   "source": [
    "with open('../static/model/corpora/stopwords/english', 'r') as file:\n",
    "    sw=file.read().splitlines()"
   ]
  },
  {
   "cell_type": "code",
   "execution_count": 6,
   "id": "ec703f66-efe9-4611-8bc6-89055005203e",
   "metadata": {},
   "outputs": [],
   "source": [
    "vocab=pd.read_csv('../static/model/vocabulary.txt',header=None)\n",
    "tokens=vocab[0].tolist()"
   ]
  },
  {
   "cell_type": "code",
   "execution_count": 7,
   "id": "c7a71126-76ea-4809-b199-d3819794fb13",
   "metadata": {},
   "outputs": [],
   "source": [
    "from nltk.stem import PorterStemmer\n",
    "ps = PorterStemmer()"
   ]
  },
  {
   "cell_type": "code",
   "execution_count": 8,
   "id": "bec4034e-1def-4baf-832c-181f001381a2",
   "metadata": {},
   "outputs": [],
   "source": [
    "def preprocessing(text):\n",
    "    data=pd.DataFrame([text],columns=['feedback'])\n",
    "    data[\"feedback\"] = data[\"feedback\"].apply(lambda x: \" \".join(re.sub(r'^https?:\\/\\/.*[\\r\\n]*', '', x, flags=re.MULTILINE) for x in x.split()))\n",
    "    data[\"feedback\"] = data[\"feedback\"].apply(lambda x: \" \".join(x.lower() for x in x.split()))\n",
    "    data[\"feedback\"] = data[\"feedback\"].apply(remove_punctuation)\n",
    "    data[\"feedback\"] = data[\"feedback\"].str.replace(r'\\d+', '', regex=True)\n",
    "    data[\"feedback\"] = data[\"feedback\"].apply(lambda x: \" \".join(x for x in x.split() if x not in sw))\n",
    "    data[\"feedback\"] = data[\"feedback\"].apply(lambda x: \" \".join([ps.stem(x) for x in x.split()]))\n",
    "    return data[\"feedback\"]"
   ]
  },
  {
   "cell_type": "code",
   "execution_count": 9,
   "id": "c7fde63a-a4bf-436c-a706-83932d636c95",
   "metadata": {},
   "outputs": [],
   "source": [
    "def vectorizer(ds,vocabulary):\n",
    "    vectorized_list=[]\n",
    "\n",
    "    for sentence in ds:\n",
    "        sentence_list=np.zeros(len(vocabulary))\n",
    "        for i in range(len(vocabulary)):\n",
    "            if vocabulary[i] in sentence.split():\n",
    "                sentence_list[i]=1\n",
    "        vectorized_list.append(sentence_list)\n",
    "\n",
    "    vectorized_list_new=np.asarray(vectorized_list,dtype=np.float32)\n",
    "    return vectorized_list_new\n",
    "    "
   ]
  },
  {
   "cell_type": "code",
   "execution_count": 33,
   "id": "43255769-b71a-47f1-8cc7-bdd3b1228945",
   "metadata": {},
   "outputs": [],
   "source": [
    "def get_prediction(vectorized_txt):\n",
    "    prediction = model.predict(vectorized_txt)\n",
    "    if prediction == 1:\n",
    "        return \"negative\"\n",
    "    elif prediction == 10:\n",
    "        return \"neutral\"\n",
    "    else:\n",
    "        return \"positive\"\n"
   ]
  },
  {
   "cell_type": "code",
   "execution_count": 34,
   "id": "f808a6c4-fc43-4afd-978e-fdadb632fe21",
   "metadata": {},
   "outputs": [],
   "source": [
    "def get_prediction_c(vectorized_txt):\n",
    "    prediction = modelc.predict(vectorized_txt)\n",
    "    if prediction == 1:\n",
    "        return \"service\"\n",
    "    elif prediction == 10:\n",
    "        return \"policy\"\n",
    "    else:\n",
    "        return \"claim\"\n"
   ]
  },
  {
   "cell_type": "code",
   "execution_count": 35,
   "id": "cb85f3da-0ace-4dc0-bc87-417fcd378e33",
   "metadata": {},
   "outputs": [
    {
     "data": {
      "text/plain": [
       "'negative'"
      ]
     },
     "execution_count": 35,
     "metadata": {},
     "output_type": "execute_result"
    }
   ],
   "source": [
    "txt=\"nothing response.the customer service is very dissatisfied\"\n",
    "preprocessed_txt=preprocessing(txt)\n",
    "vectorized_txt=vectorizer(preprocessed_txt,tokens)\n",
    "prediction=get_prediction(vectorized_txt)\n",
    "prediction_category=get_prediction_c(vectorized_txt)\n",
    "prediction\n"
   ]
  },
  {
   "cell_type": "code",
   "execution_count": 36,
   "id": "c3e93e06-6762-4c3d-b07f-8bce70add075",
   "metadata": {},
   "outputs": [
    {
     "data": {
      "text/plain": [
       "'service'"
      ]
     },
     "execution_count": 36,
     "metadata": {},
     "output_type": "execute_result"
    }
   ],
   "source": [
    "prediction_category"
   ]
  },
  {
   "cell_type": "code",
   "execution_count": null,
   "id": "0bdfc2cb-af3a-4e39-97c3-3d4bf63f17d8",
   "metadata": {},
   "outputs": [],
   "source": []
  }
 ],
 "metadata": {
  "kernelspec": {
   "display_name": "Python 3 (ipykernel)",
   "language": "python",
   "name": "python3"
  },
  "language_info": {
   "codemirror_mode": {
    "name": "ipython",
    "version": 3
   },
   "file_extension": ".py",
   "mimetype": "text/x-python",
   "name": "python",
   "nbconvert_exporter": "python",
   "pygments_lexer": "ipython3",
   "version": "3.13.0"
  }
 },
 "nbformat": 4,
 "nbformat_minor": 5
}
