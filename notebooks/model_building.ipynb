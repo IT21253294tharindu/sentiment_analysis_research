{
 "cells": [
  {
   "cell_type": "code",
   "execution_count": 2,
   "id": "fc34600e-d451-457e-aca3-a86c26bd2890",
   "metadata": {
    "dotnet_interactive": {
     "language": "csharp"
    },
    "polyglot_notebook": {
     "kernelName": "csharp"
    },
    "vscode": {
     "languageId": "polyglot-notebook"
    }
   },
   "outputs": [],
   "source": [
    "import numpy as np\n",
    "import pandas as pd\n",
    "import matplotlib.pyplot as plt"
   ]
  },
  {
   "cell_type": "markdown",
   "id": "337323fe-6459-450e-ae6b-a0557e823665",
   "metadata": {},
   "source": [
    "## import dataset"
   ]
  },
  {
   "cell_type": "code",
   "execution_count": 3,
   "id": "36545627-5035-4c63-a91f-4fc907cbf0a6",
   "metadata": {
    "vscode": {
     "languageId": "polyglot-notebook"
    }
   },
   "outputs": [],
   "source": [
    "data = pd.read_csv('../artifacts/ds.csv')"
   ]
  },
  {
   "cell_type": "code",
   "execution_count": 4,
   "id": "702ffffc-a58b-4b03-ae31-84181822c692",
   "metadata": {
    "vscode": {
     "languageId": "polyglot-notebook"
    }
   },
   "outputs": [],
   "source": [
    "data.head()"
   ]
  },
  {
   "cell_type": "markdown",
   "id": "52014b44-cf34-41c2-a420-baf619bf614b",
   "metadata": {},
   "source": [
    "## Data Preprocessing"
   ]
  },
  {
   "cell_type": "code",
   "execution_count": 5,
   "id": "bb9d9572-f0f1-48c8-b5f2-043ebc2dea89",
   "metadata": {
    "vscode": {
     "languageId": "polyglot-notebook"
    }
   },
   "outputs": [],
   "source": [
    "data.shape"
   ]
  },
  {
   "cell_type": "markdown",
   "id": "655ecbe9-0de8-4d80-9a4d-b08f0e69c4fa",
   "metadata": {},
   "source": [
    "#### remove duplicates"
   ]
  },
  {
   "cell_type": "code",
   "execution_count": 8,
   "id": "bc5e4e32-de1d-458a-b1b1-14863489895e",
   "metadata": {
    "vscode": {
     "languageId": "polyglot-notebook"
    }
   },
   "outputs": [],
   "source": [
    "data.duplicated().sum()"
   ]
  },
  {
   "cell_type": "code",
   "execution_count": 9,
   "id": "3e3fd121-f801-4ffa-ac0f-c87a9ead88d1",
   "metadata": {
    "vscode": {
     "languageId": "polyglot-notebook"
    }
   },
   "outputs": [],
   "source": [
    "duplicates = data[data.duplicated()]\n",
    "print(duplicates)\n"
   ]
  },
  {
   "cell_type": "code",
   "execution_count": 10,
   "id": "3575acee-fa3b-4ed4-860a-e86fd6cff1d3",
   "metadata": {
    "vscode": {
     "languageId": "polyglot-notebook"
    }
   },
   "outputs": [],
   "source": [
    "data = data.drop_duplicates()\n",
    "print(f\"Dataset size after removing duplicates: {data.shape}\")\n"
   ]
  },
  {
   "cell_type": "code",
   "execution_count": 14,
   "id": "55dd2d8e-3a85-4dba-b990-583089484a13",
   "metadata": {
    "vscode": {
     "languageId": "polyglot-notebook"
    }
   },
   "outputs": [],
   "source": [
    "print(f\"Remaining duplicates: {data.duplicated().sum()}\")\n"
   ]
  },
  {
   "cell_type": "markdown",
   "id": "756fe865-197e-4fd0-a920-fa7a60f0cdc0",
   "metadata": {},
   "source": [
    "#### checking null values"
   ]
  },
  {
   "cell_type": "code",
   "execution_count": 15,
   "id": "5bbcb2e4-80bc-4001-bd5c-5141b5d099d6",
   "metadata": {
    "vscode": {
     "languageId": "polyglot-notebook"
    }
   },
   "outputs": [],
   "source": [
    "data.isnull().sum()"
   ]
  },
  {
   "cell_type": "markdown",
   "id": "db4b6397-84f8-4b7a-827b-9b06692d9030",
   "metadata": {},
   "source": [
    "### Text Preprocessing"
   ]
  },
  {
   "cell_type": "markdown",
   "id": "7c0c551f-77ca-4796-8882-1fb2a0b7ef17",
   "metadata": {},
   "source": [
    "##### convert upercase to lowercase"
   ]
  },
  {
   "cell_type": "code",
   "execution_count": 16,
   "id": "b2f670d4-6cbe-48f0-8981-8775a613003b",
   "metadata": {
    "vscode": {
     "languageId": "polyglot-notebook"
    }
   },
   "outputs": [],
   "source": [
    "import re\n",
    "import string"
   ]
  },
  {
   "cell_type": "code",
   "execution_count": 33,
   "id": "be6f43b5-8a7f-4788-a1d9-e74eb2faea3b",
   "metadata": {
    "vscode": {
     "languageId": "polyglot-notebook"
    }
   },
   "outputs": [],
   "source": [
    "data[\"feedback\"].head(5)"
   ]
  },
  {
   "cell_type": "code",
   "execution_count": 34,
   "id": "a938a650-0fc3-4ade-b7bf-798b61ca525b",
   "metadata": {
    "vscode": {
     "languageId": "polyglot-notebook"
    }
   },
   "outputs": [],
   "source": [
    "data = data.copy()\n",
    "data[\"feedback\"] = data[\"feedback\"].apply(lambda x: \" \".join(x.lower() for x in x.split()))"
   ]
  },
  {
   "cell_type": "code",
   "execution_count": 35,
   "id": "c8547103-2498-4310-a53c-d9584a2eb2d7",
   "metadata": {
    "vscode": {
     "languageId": "polyglot-notebook"
    }
   },
   "outputs": [],
   "source": [
    "data[\"feedback\"].head()"
   ]
  },
  {
   "cell_type": "markdown",
   "id": "43e94327-6830-4aa5-ba55-7f074d52aacf",
   "metadata": {},
   "source": [
    "##### remove links"
   ]
  },
  {
   "cell_type": "code",
   "execution_count": 36,
   "id": "22d1dc62-4932-4172-b945-dd56c11aa349",
   "metadata": {
    "vscode": {
     "languageId": "polyglot-notebook"
    }
   },
   "outputs": [],
   "source": [
    "data[\"feedback\"] = data[\"feedback\"].apply(lambda x: \" \".join(re.sub(r'^https?:\\/\\/.*[\\r\\n]*', '', x, flags=re.MULTILINE) for x in x.split()))"
   ]
  },
  {
   "cell_type": "code",
   "execution_count": 38,
   "id": "7673518a-dc35-43c3-9f41-07e58d40dcb6",
   "metadata": {
    "vscode": {
     "languageId": "polyglot-notebook"
    }
   },
   "outputs": [],
   "source": [
    "data[\"feedback\"]"
   ]
  },
  {
   "cell_type": "markdown",
   "id": "3cca9a88-191e-45f6-9f70-64e777607d1a",
   "metadata": {},
   "source": [
    "##### remove punctuations"
   ]
  },
  {
   "cell_type": "code",
   "execution_count": 39,
   "id": "844fd0cb-4e2e-487c-9725-9421d8e03d18",
   "metadata": {
    "vscode": {
     "languageId": "polyglot-notebook"
    }
   },
   "outputs": [],
   "source": [
    "string.punctuation"
   ]
  },
  {
   "cell_type": "code",
   "execution_count": 40,
   "id": "c6a71bd2-e525-4bc0-b58b-3e67d6b668d3",
   "metadata": {
    "vscode": {
     "languageId": "polyglot-notebook"
    }
   },
   "outputs": [],
   "source": [
    "def remove_punctuation(text):\n",
    "    for punctuation in string.punctuation:\n",
    "        text = text.replace(punctuation, '')\n",
    "    return text\n",
    "\n",
    "data[\"feedback\"] = data[\"feedback\"].apply(remove_punctuation)"
   ]
  },
  {
   "cell_type": "code",
   "execution_count": 41,
   "id": "820e0ebc-4c2c-4956-b545-26480548121c",
   "metadata": {
    "vscode": {
     "languageId": "polyglot-notebook"
    }
   },
   "outputs": [],
   "source": [
    "data[\"feedback\"].head(5)"
   ]
  },
  {
   "cell_type": "markdown",
   "id": "8ac3a85a-ef6c-4b9e-a5cc-56fee8cf9feb",
   "metadata": {},
   "source": [
    "##### remove numbers"
   ]
  },
  {
   "cell_type": "code",
   "execution_count": 55,
   "id": "7a360190-3fbf-4a3a-a6e3-052709794239",
   "metadata": {
    "vscode": {
     "languageId": "polyglot-notebook"
    }
   },
   "outputs": [],
   "source": [
    "data[\"feedback\"].iloc[90]\n"
   ]
  },
  {
   "cell_type": "code",
   "execution_count": 58,
   "id": "dce95cac-d8b0-4923-bc54-b11b579f4294",
   "metadata": {
    "vscode": {
     "languageId": "polyglot-notebook"
    }
   },
   "outputs": [],
   "source": [
    "data[\"feedback\"] = data[\"feedback\"].str.replace(r'\\d+', '', regex=True)"
   ]
  },
  {
   "cell_type": "code",
   "execution_count": 59,
   "id": "515684e2-1105-4905-8e28-cebe31f6a2e7",
   "metadata": {
    "vscode": {
     "languageId": "polyglot-notebook"
    }
   },
   "outputs": [],
   "source": [
    "data[\"feedback\"].iloc[90]"
   ]
  },
  {
   "cell_type": "markdown",
   "id": "ce119d00-c2ef-4660-8226-3cf5d244ab39",
   "metadata": {},
   "source": [
    "##### remove stopwords"
   ]
  },
  {
   "cell_type": "code",
   "execution_count": 60,
   "id": "ec2551a5-ef79-4e0c-a5db-4492d620b3a4",
   "metadata": {
    "vscode": {
     "languageId": "polyglot-notebook"
    }
   },
   "outputs": [],
   "source": [
    "!pip install nltk"
   ]
  },
  {
   "cell_type": "code",
   "execution_count": 61,
   "id": "535d265c-78ab-4fc3-a149-64dda8fb78cc",
   "metadata": {
    "vscode": {
     "languageId": "polyglot-notebook"
    }
   },
   "outputs": [],
   "source": [
    "import nltk"
   ]
  },
  {
   "cell_type": "markdown",
   "id": "29e24e1d-4abe-4e12-a936-e033d126f72d",
   "metadata": {},
   "source": [
    "##### downlad stopwords for english language"
   ]
  },
  {
   "cell_type": "code",
   "execution_count": 62,
   "id": "69ca8004-c402-4a17-af65-e1cac47b1cf9",
   "metadata": {
    "vscode": {
     "languageId": "polyglot-notebook"
    }
   },
   "outputs": [],
   "source": [
    "nltk.download('stopwords',download_dir='../static/model')"
   ]
  },
  {
   "cell_type": "code",
   "execution_count": 63,
   "id": "fdf2700f-1053-45c3-a069-053306168c0a",
   "metadata": {
    "vscode": {
     "languageId": "polyglot-notebook"
    }
   },
   "outputs": [],
   "source": [
    "with open('../static/model/corpora/stopwords/english', 'r') as file:\n",
    "    sw=file.read().splitlines()"
   ]
  },
  {
   "cell_type": "code",
   "execution_count": 64,
   "id": "7356cd86-838d-4af7-99a8-36d01078f3f1",
   "metadata": {
    "vscode": {
     "languageId": "polyglot-notebook"
    }
   },
   "outputs": [],
   "source": [
    "sw"
   ]
  },
  {
   "cell_type": "code",
   "execution_count": 65,
   "id": "3b821cfa-f36f-406b-979a-3437a96a9379",
   "metadata": {
    "vscode": {
     "languageId": "polyglot-notebook"
    }
   },
   "outputs": [],
   "source": [
    "data[\"feedback\"] = data[\"feedback\"].apply(lambda x: \" \".join(x for x in x.split() if x not in sw))"
   ]
  },
  {
   "cell_type": "code",
   "execution_count": 67,
   "id": "2d4e1618-4cef-4810-9c27-8890de37c410",
   "metadata": {
    "vscode": {
     "languageId": "polyglot-notebook"
    }
   },
   "outputs": [],
   "source": [
    "data[\"feedback\"].head(5)"
   ]
  },
  {
   "cell_type": "markdown",
   "id": "902de095-16b9-4063-a509-66a919644d4c",
   "metadata": {},
   "source": [
    "##### stemming"
   ]
  },
  {
   "cell_type": "code",
   "execution_count": 68,
   "id": "6dc96af8-c5dd-4b09-a24d-146aabb2a82b",
   "metadata": {
    "vscode": {
     "languageId": "polyglot-notebook"
    }
   },
   "outputs": [],
   "source": [
    "from nltk.stem import PorterStemmer\n",
    "ps = PorterStemmer()"
   ]
  },
  {
   "cell_type": "code",
   "execution_count": 69,
   "id": "95d01c0b-44e9-4d2e-88b4-695ce572e438",
   "metadata": {
    "vscode": {
     "languageId": "polyglot-notebook"
    }
   },
   "outputs": [],
   "source": [
    "data[\"feedback\"] = data[\"feedback\"].apply(lambda x: \" \".join([ps.stem(x) for x in x.split()]))"
   ]
  },
  {
   "cell_type": "code",
   "execution_count": 72,
   "id": "04f4ccc7-c52c-4683-ba6e-d5169db11120",
   "metadata": {
    "vscode": {
     "languageId": "polyglot-notebook"
    }
   },
   "outputs": [],
   "source": [
    "data"
   ]
  },
  {
   "cell_type": "markdown",
   "id": "6b335027-58a6-4b94-8bf8-dc99acebc815",
   "metadata": {},
   "source": [
    "## Vectorization"
   ]
  },
  {
   "cell_type": "markdown",
   "id": "e145761c-6af8-4fe6-bb4a-c36d5c534598",
   "metadata": {},
   "source": [
    "##### Bulidng Vocabulary"
   ]
  },
  {
   "cell_type": "code",
   "execution_count": 83,
   "id": "979475ef-9f7d-4bd4-817c-3261847445fd",
   "metadata": {
    "vscode": {
     "languageId": "polyglot-notebook"
    }
   },
   "outputs": [],
   "source": [
    "from collections import Counter\n",
    "vocab=Counter()"
   ]
  },
  {
   "cell_type": "code",
   "execution_count": 84,
   "id": "00a841c5-7673-4b01-bc4b-07f1eaddd990",
   "metadata": {
    "vscode": {
     "languageId": "polyglot-notebook"
    }
   },
   "outputs": [],
   "source": [
    "vocab"
   ]
  },
  {
   "cell_type": "code",
   "execution_count": 88,
   "id": "d48ca96c-d5fa-4613-99f8-2fc866de59ed",
   "metadata": {
    "vscode": {
     "languageId": "polyglot-notebook"
    }
   },
   "outputs": [],
   "source": [
    "for sentence in data[\"feedback\"]:\n",
    "    vocab.update(sentence.split())"
   ]
  },
  {
   "cell_type": "code",
   "execution_count": 90,
   "id": "6aac19a6-f1f7-477a-bd28-9f666ae046d5",
   "metadata": {
    "vscode": {
     "languageId": "polyglot-notebook"
    }
   },
   "outputs": [],
   "source": [
    "len(vocab)"
   ]
  },
  {
   "cell_type": "code",
   "execution_count": 91,
   "id": "7e2ed398-749d-4fde-99ab-c9c66f2cc937",
   "metadata": {
    "vscode": {
     "languageId": "polyglot-notebook"
    }
   },
   "outputs": [],
   "source": [
    "data.shape"
   ]
  },
  {
   "cell_type": "code",
   "execution_count": 120,
   "id": "8c1a6029-cbd2-4fee-86d7-e969dd02f411",
   "metadata": {
    "vscode": {
     "languageId": "polyglot-notebook"
    }
   },
   "outputs": [],
   "source": [
    "vocab"
   ]
  },
  {
   "cell_type": "markdown",
   "id": "5b3f885f-578e-4112-950a-1f022193f1ff",
   "metadata": {},
   "source": [
    "##### creating vocabulary"
   ]
  },
  {
   "cell_type": "code",
   "execution_count": 118,
   "id": "dc59df26-20f9-4061-8144-dba4369f3653",
   "metadata": {
    "vscode": {
     "languageId": "polyglot-notebook"
    }
   },
   "outputs": [],
   "source": [
    "tokens=[key for key in vocab if vocab[key]>20]"
   ]
  },
  {
   "cell_type": "code",
   "execution_count": 119,
   "id": "0204e52e-47dc-42d7-a4cb-8b9e64588cd9",
   "metadata": {
    "vscode": {
     "languageId": "polyglot-notebook"
    }
   },
   "outputs": [],
   "source": [
    "len(tokens)"
   ]
  },
  {
   "cell_type": "markdown",
   "id": "ee8902bd-6b68-4892-96dd-a620e68995d2",
   "metadata": {},
   "source": [
    "##### save vocabulary"
   ]
  },
  {
   "cell_type": "code",
   "execution_count": 121,
   "id": "2267680f-eae7-4dfc-9e89-b363d5d5fcfb",
   "metadata": {
    "vscode": {
     "languageId": "polyglot-notebook"
    }
   },
   "outputs": [],
   "source": [
    "def save_vocubulary(lines, filename):\n",
    "    data='\\n'.join(lines)\n",
    "    file=open(filename,'w',encoding='utf-8')\n",
    "    file.write(data)\n",
    "    file.close()\n",
    "\n",
    "save_vocubulary(tokens,'../static/model/vocabulary.txt')"
   ]
  },
  {
   "cell_type": "markdown",
   "id": "32e6601c-7ba4-4477-b5f8-cdb5d1c2b12d",
   "metadata": {},
   "source": [
    "### Divide Dataset"
   ]
  },
  {
   "cell_type": "code",
   "execution_count": 126,
   "id": "7f046319-5a81-475a-8831-d3119910e8b4",
   "metadata": {
    "vscode": {
     "languageId": "polyglot-notebook"
    }
   },
   "outputs": [],
   "source": [
    "X=data[\"feedback\"]\n",
    "Y=data[\"sentiment (binary)\"]\n",
    "Z=data[\"category (binary)\"]"
   ]
  },
  {
   "cell_type": "code",
   "execution_count": 127,
   "id": "808c2727-4b73-4737-a58e-06da8edaffa3",
   "metadata": {
    "vscode": {
     "languageId": "polyglot-notebook"
    }
   },
   "outputs": [],
   "source": [
    "X"
   ]
  },
  {
   "cell_type": "code",
   "execution_count": 128,
   "id": "39a4e1f5-da3c-4fcb-adb0-a74ed33b5f8d",
   "metadata": {
    "vscode": {
     "languageId": "polyglot-notebook"
    }
   },
   "outputs": [],
   "source": [
    "Y"
   ]
  },
  {
   "cell_type": "code",
   "execution_count": 129,
   "id": "1166c858-3750-499c-a11b-79c0d1316c56",
   "metadata": {
    "vscode": {
     "languageId": "polyglot-notebook"
    }
   },
   "outputs": [],
   "source": [
    "Z"
   ]
  },
  {
   "cell_type": "code",
   "execution_count": 130,
   "id": "9c389c06-b94f-4999-974d-61a9fe7b3d9e",
   "metadata": {
    "vscode": {
     "languageId": "polyglot-notebook"
    }
   },
   "outputs": [],
   "source": [
    "!pip install scikit-learn"
   ]
  },
  {
   "cell_type": "code",
   "execution_count": 132,
   "id": "5128b215-c925-48b0-a086-fd9c646e0941",
   "metadata": {
    "vscode": {
     "languageId": "polyglot-notebook"
    }
   },
   "outputs": [],
   "source": [
    "from sklearn.model_selection import train_test_split\n",
    "X_train, X_test, Y_train, Y_test, Z_train, Z_test = train_test_split(X, Y, Z, test_size=0.2)"
   ]
  },
  {
   "cell_type": "code",
   "execution_count": 139,
   "id": "1c275054-666c-465d-9aad-ad1b2cd32b51",
   "metadata": {
    "vscode": {
     "languageId": "polyglot-notebook"
    }
   },
   "outputs": [],
   "source": [
    "X_train.shape"
   ]
  },
  {
   "cell_type": "code",
   "execution_count": 136,
   "id": "4fd8b9b4-ee1b-4cc3-bf61-fbdfb5fa0a44",
   "metadata": {
    "vscode": {
     "languageId": "polyglot-notebook"
    }
   },
   "outputs": [],
   "source": [
    "len(X_test)"
   ]
  },
  {
   "cell_type": "code",
   "execution_count": 137,
   "id": "0d4e6334-7c90-4758-836f-2f2691303283",
   "metadata": {
    "vscode": {
     "languageId": "polyglot-notebook"
    }
   },
   "outputs": [],
   "source": [
    "len(Y_train)"
   ]
  },
  {
   "cell_type": "code",
   "execution_count": 138,
   "id": "5774060b-7bc9-4cd4-9c72-6725f5e65644",
   "metadata": {
    "vscode": {
     "languageId": "polyglot-notebook"
    }
   },
   "outputs": [],
   "source": [
    "len(Y_test)"
   ]
  },
  {
   "cell_type": "code",
   "execution_count": 140,
   "id": "a0888746-9d41-4823-806c-682deed0476b",
   "metadata": {
    "vscode": {
     "languageId": "polyglot-notebook"
    }
   },
   "outputs": [],
   "source": [
    "len(Z_train)"
   ]
  },
  {
   "cell_type": "code",
   "execution_count": 141,
   "id": "12d38728-42c7-4103-a113-4cd0dfa8af28",
   "metadata": {
    "vscode": {
     "languageId": "polyglot-notebook"
    }
   },
   "outputs": [],
   "source": [
    "len(Z_test)"
   ]
  },
  {
   "cell_type": "markdown",
   "id": "0048869d-2418-47cb-a85d-702944c4cb77",
   "metadata": {},
   "source": [
    "### Vectorization"
   ]
  },
  {
   "cell_type": "code",
   "execution_count": 142,
   "id": "642bd9fc-0c88-4469-8b76-4855b0c80280",
   "metadata": {
    "vscode": {
     "languageId": "polyglot-notebook"
    }
   },
   "outputs": [],
   "source": [
    "def vectorizer(ds,vocabulary):\n",
    "    vectorized_list=[]\n",
    "\n",
    "    for sentence in ds:\n",
    "        sentence_list=np.zeros(len(vocabulary))\n",
    "        for i in range(len(vocabulary)):\n",
    "            if vocabulary[i] in sentence.split():\n",
    "                sentence_list[i]=1\n",
    "        vectorized_list.append(sentence_list)\n",
    "\n",
    "    vectorized_list_new=np.asarray(vectorized_list,dtype=np.float32)\n",
    "    return vectorized_list_new\n",
    "    "
   ]
  },
  {
   "cell_type": "markdown",
   "id": "a263feca-5aa2-43c2-abe6-7731c007ce46",
   "metadata": {},
   "source": [
    "##### vextorized the training feedbacks"
   ]
  },
  {
   "cell_type": "code",
   "execution_count": 150,
   "id": "039cf41c-7055-486f-985f-251d180f302e",
   "metadata": {
    "vscode": {
     "languageId": "polyglot-notebook"
    }
   },
   "outputs": [],
   "source": [
    "vectorized_X_train=vectorizer(X_train,tokens)"
   ]
  },
  {
   "cell_type": "code",
   "execution_count": 151,
   "id": "b6f43a05-6037-482d-8689-083868aca741",
   "metadata": {
    "vscode": {
     "languageId": "polyglot-notebook"
    }
   },
   "outputs": [],
   "source": [
    "for i in vectorized_X_train[0]:\n",
    "    print(i)"
   ]
  },
  {
   "cell_type": "code",
   "execution_count": 152,
   "id": "f27bd88d-e114-48e7-94a2-68930b19d7af",
   "metadata": {
    "vscode": {
     "languageId": "polyglot-notebook"
    }
   },
   "outputs": [],
   "source": [
    "vectorized_X_train[0]"
   ]
  },
  {
   "cell_type": "markdown",
   "id": "037f37a9-7813-401d-9d4a-504b8d201183",
   "metadata": {},
   "source": [
    "##### vectorize the test feedbacks"
   ]
  },
  {
   "cell_type": "code",
   "execution_count": 153,
   "id": "05a5ba6f-32da-400c-9b55-9c4d0fa2dc57",
   "metadata": {
    "vscode": {
     "languageId": "polyglot-notebook"
    }
   },
   "outputs": [],
   "source": [
    "vectorized_X_test=vectorizer(X_test,tokens)"
   ]
  },
  {
   "cell_type": "code",
   "execution_count": 154,
   "id": "01977a2e-bf23-46de-885b-d9b7ff7592bc",
   "metadata": {
    "vscode": {
     "languageId": "polyglot-notebook"
    }
   },
   "outputs": [],
   "source": [
    "vectorized_X_test"
   ]
  },
  {
   "cell_type": "code",
   "execution_count": 155,
   "id": "70a2415e-5545-4295-a964-e507e5f9f94f",
   "metadata": {
    "vscode": {
     "languageId": "polyglot-notebook"
    }
   },
   "outputs": [],
   "source": [
    "vectorized_X_train"
   ]
  },
  {
   "cell_type": "code",
   "execution_count": 157,
   "id": "f4d666fe-bd40-4647-a7c8-64e43fd5e971",
   "metadata": {
    "vscode": {
     "languageId": "polyglot-notebook"
    }
   },
   "outputs": [],
   "source": [
    "Y_train"
   ]
  },
  {
   "cell_type": "code",
   "execution_count": 158,
   "id": "aaff17ae-c856-4f24-bc1a-e676c46f7a93",
   "metadata": {
    "vscode": {
     "languageId": "polyglot-notebook"
    }
   },
   "outputs": [],
   "source": [
    "Y_train.value_counts()"
   ]
  },
  {
   "cell_type": "code",
   "execution_count": 160,
   "id": "926aa58a-d840-4566-bfdb-22d5708ffe4a",
   "metadata": {
    "vscode": {
     "languageId": "polyglot-notebook"
    }
   },
   "outputs": [],
   "source": [
    "plt.pie(np.array([Y_train.value_counts()[0],Y_train.value_counts()[1],Y_train.value_counts()[10]]),labels=['positive','negative','neutral'])\n",
    "plt.show()"
   ]
  },
  {
   "cell_type": "code",
   "execution_count": 161,
   "id": "c652e5f8-bf68-4156-a202-2e638f627afb",
   "metadata": {
    "vscode": {
     "languageId": "polyglot-notebook"
    }
   },
   "outputs": [],
   "source": [
    "Z_train.value_counts()"
   ]
  },
  {
   "cell_type": "code",
   "execution_count": 163,
   "id": "02ae8a2f-d4a0-48d9-92f9-b6fd68b06860",
   "metadata": {
    "vscode": {
     "languageId": "polyglot-notebook"
    }
   },
   "outputs": [],
   "source": [
    "plt.pie(np.array([Z_train.value_counts()[0],Z_train.value_counts()[1],Z_train.value_counts()[10]]),labels=['claim','service','policy'])\n",
    "plt.show()"
   ]
  },
  {
   "cell_type": "markdown",
   "id": "b3bc13cb-0078-49e9-b580-0c5d171314c2",
   "metadata": {},
   "source": [
    "### Handle imbalance dataset"
   ]
  },
  {
   "cell_type": "code",
   "execution_count": 164,
   "id": "25dc2eec-215f-4f2e-b67b-def193712649",
   "metadata": {
    "vscode": {
     "languageId": "polyglot-notebook"
    }
   },
   "outputs": [],
   "source": [
    "!pip install imbalanced-learn"
   ]
  },
  {
   "cell_type": "code",
   "execution_count": 173,
   "id": "2b4c8c3c-5618-4367-870f-c9d7c3ea2f5e",
   "metadata": {
    "vscode": {
     "languageId": "polyglot-notebook"
    }
   },
   "outputs": [],
   "source": [
    "from imblearn.over_sampling import SMOTE\n",
    "smote=SMOTE()\n",
    "vectorized_X_train_smote,Y_train_smote=smote.fit_resample(vectorized_X_train,Y_train)\n",
    "print(vectorized_X_train_smote.shape,Y_train_smote.shape)"
   ]
  },
  {
   "cell_type": "code",
   "execution_count": 174,
   "id": "f5c0b6bb-fc0b-4f72-96a7-d5849c24cbba",
   "metadata": {
    "vscode": {
     "languageId": "polyglot-notebook"
    }
   },
   "outputs": [],
   "source": [
    "Y_train_smote.value_counts()"
   ]
  },
  {
   "cell_type": "code",
   "execution_count": 175,
   "id": "2f062473-376f-4972-9466-73351e489883",
   "metadata": {
    "vscode": {
     "languageId": "polyglot-notebook"
    }
   },
   "outputs": [],
   "source": [
    "from imblearn.over_sampling import SMOTE\n",
    "smote=SMOTE()\n",
    "vectorized_X_train_smote_category,Z_train_smote=smote.fit_resample(vectorized_X_train,Z_train)\n",
    "print(vectorized_X_train_smote_category.shape,Z_train_smote.shape)"
   ]
  },
  {
   "cell_type": "code",
   "execution_count": 177,
   "id": "846d05d4-8d01-4af2-a241-a078a39d06db",
   "metadata": {
    "vscode": {
     "languageId": "polyglot-notebook"
    }
   },
   "outputs": [],
   "source": [
    "Z_train_smote.value_counts()"
   ]
  },
  {
   "cell_type": "code",
   "execution_count": 178,
   "id": "75c9a2a8-efe9-4477-a458-5cfff4337047",
   "metadata": {
    "vscode": {
     "languageId": "polyglot-notebook"
    }
   },
   "outputs": [],
   "source": [
    "plt.pie(np.array([Y_train_smote.value_counts()[0],Y_train_smote.value_counts()[1],Y_train_smote.value_counts()[10]]),labels=['positive','negative','neutral'])\n",
    "plt.show()"
   ]
  },
  {
   "cell_type": "code",
   "execution_count": 179,
   "id": "dec4017b-ffbe-42af-aa23-c94c18da5e66",
   "metadata": {
    "vscode": {
     "languageId": "polyglot-notebook"
    }
   },
   "outputs": [],
   "source": [
    "plt.pie(np.array([Z_train_smote.value_counts()[0],Z_train_smote.value_counts()[1],Z_train_smote.value_counts()[10]]),labels=['claim','service','policy'])\n",
    "plt.show()"
   ]
  },
  {
   "cell_type": "markdown",
   "id": "a888e07a-d56f-4784-8be0-81a55cb72ce6",
   "metadata": {},
   "source": [
    "##### using this dataset for train & test the sentiment models"
   ]
  },
  {
   "cell_type": "code",
   "execution_count": 184,
   "id": "3aa046c8-a42e-476e-b0d5-5406390e02c9",
   "metadata": {
    "vscode": {
     "languageId": "polyglot-notebook"
    }
   },
   "outputs": [],
   "source": [
    "vectorized_X_train_smote"
   ]
  },
  {
   "cell_type": "code",
   "execution_count": 185,
   "id": "35a502be-403b-4c7e-8fb7-dcefc3485a8c",
   "metadata": {
    "vscode": {
     "languageId": "polyglot-notebook"
    }
   },
   "outputs": [],
   "source": [
    "Y_train_smote"
   ]
  },
  {
   "cell_type": "code",
   "execution_count": 186,
   "id": "24d6f928-95b2-4752-9a8b-24963eb5e62a",
   "metadata": {
    "vscode": {
     "languageId": "polyglot-notebook"
    }
   },
   "outputs": [],
   "source": [
    "vectorized_X_test"
   ]
  },
  {
   "cell_type": "code",
   "execution_count": 187,
   "id": "4a89f8e8-6e7c-412c-a49f-2179060dab43",
   "metadata": {
    "vscode": {
     "languageId": "polyglot-notebook"
    }
   },
   "outputs": [],
   "source": [
    "Y_test"
   ]
  },
  {
   "cell_type": "markdown",
   "id": "acdbb10d-3344-4f24-9d4b-8e02136aa37f",
   "metadata": {},
   "source": [
    "##### using this dataset for train & test the models for categorization"
   ]
  },
  {
   "cell_type": "code",
   "execution_count": 188,
   "id": "8fcff696-debe-418a-95b3-cc889438e1e8",
   "metadata": {
    "vscode": {
     "languageId": "polyglot-notebook"
    }
   },
   "outputs": [],
   "source": [
    "vectorized_X_train_smote_category"
   ]
  },
  {
   "cell_type": "code",
   "execution_count": 189,
   "id": "2247eed2-e173-4107-8f5c-d6f4dfc59610",
   "metadata": {
    "vscode": {
     "languageId": "polyglot-notebook"
    }
   },
   "outputs": [],
   "source": [
    "Z_train_smote"
   ]
  },
  {
   "cell_type": "code",
   "execution_count": 190,
   "id": "4b815abc-084e-471b-b358-3482f72315e7",
   "metadata": {
    "vscode": {
     "languageId": "polyglot-notebook"
    }
   },
   "outputs": [],
   "source": [
    "vectorized_X_test"
   ]
  },
  {
   "cell_type": "code",
   "execution_count": 192,
   "id": "4e855e6e-ed63-44fe-85d9-c734ef04d9cf",
   "metadata": {
    "vscode": {
     "languageId": "polyglot-notebook"
    }
   },
   "outputs": [],
   "source": [
    "Z_test"
   ]
  },
  {
   "cell_type": "markdown",
   "id": "b0607d8b-55da-4c25-95d9-310a9aa0f1fe",
   "metadata": {},
   "source": [
    "## Model Training & Evaluation "
   ]
  },
  {
   "cell_type": "code",
   "execution_count": 194,
   "id": "e575c1fa-7d56-4ae2-a07d-8f9fa2d821f7",
   "metadata": {
    "vscode": {
     "languageId": "polyglot-notebook"
    }
   },
   "outputs": [],
   "source": [
    "from sklearn.linear_model import LogisticRegression\n",
    "from sklearn.naive_bayes import MultinomialNB\n",
    "from sklearn.ensemble import RandomForestClassifier\n",
    "from sklearn.tree import DecisionTreeClassifier\n",
    "from sklearn.svm import SVC"
   ]
  },
  {
   "cell_type": "markdown",
   "id": "3adbcb5f-6c68-4e4a-a8b3-0cfab8e482b6",
   "metadata": {},
   "source": [
    "### Model Training & Evaluation for Sentiment"
   ]
  },
  {
   "cell_type": "code",
   "execution_count": 201,
   "id": "9ee9877c-d75e-415a-bbf5-1706b0a0794a",
   "metadata": {
    "vscode": {
     "languageId": "polyglot-notebook"
    }
   },
   "outputs": [],
   "source": [
    "from sklearn.metrics import accuracy_score, precision_score, recall_score, f1_score\n",
    "\n",
    "def training_scores(y_act, y_pred):\n",
    "    acc = round(accuracy_score(y_act, y_pred), 3)\n",
    "    prec = round(precision_score(y_act, y_pred, average='weighted'), 3)  # Specify average\n",
    "    rec = round(recall_score(y_act, y_pred, average='weighted'), 3)  # Specify average\n",
    "    f1 = round(f1_score(y_act, y_pred, average='weighted'), 3)  # Specify average\n",
    "    \n",
    "    print(f'Training Scores:\\n\\tAccuracy: {acc}\\n\\tPrecision: {prec}\\n\\tRecall: {rec}\\n\\tF1-Score: {f1}\\n')\n",
    "\n",
    "def validation_scores(y_act, y_pred):\n",
    "    acc = round(accuracy_score(y_act, y_pred), 3)\n",
    "    prec = round(precision_score(y_act, y_pred, average='weighted'), 3)  # Specify average\n",
    "    rec = round(recall_score(y_act, y_pred, average='weighted'), 3)  # Specify average\n",
    "    f1 = round(f1_score(y_act, y_pred, average='weighted'), 3)  # Specify average\n",
    "    \n",
    "    print(f'Testing Scores:\\n\\tAccuracy: {acc}\\n\\tPrecision: {prec}\\n\\tRecall: {rec}\\n\\tF1-Score: {f1}\\n')\n"
   ]
  },
  {
   "cell_type": "markdown",
   "id": "56f5a148-998b-499c-9c72-c30dadacf86a",
   "metadata": {},
   "source": [
    "##### logistic regression"
   ]
  },
  {
   "cell_type": "code",
   "execution_count": 202,
   "id": "1bcddbac-bd2f-4152-b0c8-4c97426a73cf",
   "metadata": {
    "vscode": {
     "languageId": "polyglot-notebook"
    }
   },
   "outputs": [],
   "source": [
    "lr=LogisticRegression()\n",
    "lr.fit(vectorized_X_train_smote,Y_train_smote)"
   ]
  },
  {
   "cell_type": "code",
   "execution_count": 203,
   "id": "a2ca5730-42c1-46b4-9c79-46ee89eab3ec",
   "metadata": {
    "vscode": {
     "languageId": "polyglot-notebook"
    }
   },
   "outputs": [],
   "source": [
    "Y_train_predict=lr.predict(vectorized_X_train_smote)"
   ]
  },
  {
   "cell_type": "code",
   "execution_count": 204,
   "id": "a7b88ae9-f0e1-4451-8386-41a6fb98b97b",
   "metadata": {
    "vscode": {
     "languageId": "polyglot-notebook"
    }
   },
   "outputs": [],
   "source": [
    "Y_train_predict"
   ]
  },
  {
   "cell_type": "code",
   "execution_count": 205,
   "id": "d5c2039e-c113-4d28-b32a-bc51ae7eb6b1",
   "metadata": {
    "vscode": {
     "languageId": "polyglot-notebook"
    }
   },
   "outputs": [],
   "source": [
    "Y_train_smote"
   ]
  },
  {
   "cell_type": "code",
   "execution_count": 206,
   "id": "a5eee4d7-57cb-4e6c-8707-d93953f46824",
   "metadata": {
    "vscode": {
     "languageId": "polyglot-notebook"
    }
   },
   "outputs": [],
   "source": [
    "training_scores(Y_train_smote,Y_train_predict)"
   ]
  },
  {
   "cell_type": "code",
   "execution_count": 207,
   "id": "a1931b0c-1108-4b5c-b2eb-17af09e4463b",
   "metadata": {
    "vscode": {
     "languageId": "polyglot-notebook"
    }
   },
   "outputs": [],
   "source": [
    "Y_test_predict=lr.predict(vectorized_X_test)"
   ]
  },
  {
   "cell_type": "code",
   "execution_count": 234,
   "id": "88597643-e604-4582-a72f-9c37a8dd833c",
   "metadata": {
    "vscode": {
     "languageId": "polyglot-notebook"
    }
   },
   "outputs": [],
   "source": [
    "Y_test_predict"
   ]
  },
  {
   "cell_type": "code",
   "execution_count": 235,
   "id": "712c2e8c-54cd-4c5f-a351-e29f3adc7637",
   "metadata": {
    "vscode": {
     "languageId": "polyglot-notebook"
    }
   },
   "outputs": [],
   "source": [
    "Y_test"
   ]
  },
  {
   "cell_type": "code",
   "execution_count": 236,
   "id": "cbf44e65-04d8-46ed-9a40-b605bf6482b9",
   "metadata": {
    "vscode": {
     "languageId": "polyglot-notebook"
    }
   },
   "outputs": [],
   "source": [
    "validation_scores(Y_test, Y_test_predict)"
   ]
  },
  {
   "cell_type": "markdown",
   "id": "12b42b24-bf15-4ac3-bc19-94893b818197",
   "metadata": {},
   "source": [
    "##### Naive Bayes"
   ]
  },
  {
   "cell_type": "code",
   "execution_count": 237,
   "id": "9b0bd238-0ee4-4c7b-89f8-38dfa996092d",
   "metadata": {
    "vscode": {
     "languageId": "polyglot-notebook"
    }
   },
   "outputs": [],
   "source": [
    "mnb=MultinomialNB()\n",
    "mnb.fit(vectorized_X_train_smote,Y_train_smote)\n",
    "Y_train_predict=mnb.predict(vectorized_X_train_smote)\n",
    "Y_test_predict=mnb.predict(vectorized_X_test)\n",
    "training_scores(Y_train_smote,Y_train_predict)\n",
    "validation_scores(Y_test, Y_test_predict)"
   ]
  },
  {
   "cell_type": "markdown",
   "id": "ca515fd4-690e-4acd-9be8-11fb88d6d2d4",
   "metadata": {},
   "source": [
    "##### Decision Tree"
   ]
  },
  {
   "cell_type": "code",
   "execution_count": 238,
   "id": "0f1d7731-ba94-4eee-8320-7071ea09fa94",
   "metadata": {
    "vscode": {
     "languageId": "polyglot-notebook"
    }
   },
   "outputs": [],
   "source": [
    "dt=DecisionTreeClassifier()\n",
    "dt.fit(vectorized_X_train_smote,Y_train_smote)\n",
    "Y_train_predict=dt.predict(vectorized_X_train_smote)\n",
    "Y_test_predict=dt.predict(vectorized_X_test)\n",
    "training_scores(Y_train_smote,Y_train_predict)\n",
    "validation_scores(Y_test, Y_test_predict)"
   ]
  },
  {
   "cell_type": "markdown",
   "id": "7683d0e0-992e-47f1-b15c-d363c818fc11",
   "metadata": {},
   "source": [
    "##### Random forest"
   ]
  },
  {
   "cell_type": "code",
   "execution_count": 239,
   "id": "867702a0-eaf0-4830-9038-b80901d5f940",
   "metadata": {
    "vscode": {
     "languageId": "polyglot-notebook"
    }
   },
   "outputs": [],
   "source": [
    "rf=RandomForestClassifier()\n",
    "rf.fit(vectorized_X_train_smote,Y_train_smote)\n",
    "Y_train_predict=rf.predict(vectorized_X_train_smote)\n",
    "Y_test_predict=rf.predict(vectorized_X_test)\n",
    "training_scores(Y_train_smote,Y_train_predict)\n",
    "validation_scores(Y_test, Y_test_predict)"
   ]
  },
  {
   "cell_type": "markdown",
   "id": "b3f8ad03-db86-4747-8adc-21d92d40bf20",
   "metadata": {},
   "source": [
    "##### Support vector machine"
   ]
  },
  {
   "cell_type": "code",
   "execution_count": 240,
   "id": "6a7eb964-32d0-41d4-8ae9-62be5d7a7115",
   "metadata": {
    "vscode": {
     "languageId": "polyglot-notebook"
    }
   },
   "outputs": [],
   "source": [
    "svm=SVC()\n",
    "svm.fit(vectorized_X_train_smote,Y_train_smote)\n",
    "Y_train_predict=svm.predict(vectorized_X_train_smote)\n",
    "Y_test_predict=svm.predict(vectorized_X_test)\n",
    "training_scores(Y_train_smote,Y_train_predict)\n",
    "validation_scores(Y_test, Y_test_predict)"
   ]
  },
  {
   "cell_type": "markdown",
   "id": "aa9d50d1-59eb-41d7-95ad-8db1badb8750",
   "metadata": {},
   "source": [
    "### saving the model"
   ]
  },
  {
   "cell_type": "code",
   "execution_count": 241,
   "id": "f62a16bf-86d1-4e97-ac3c-c77dfca49dc6",
   "metadata": {
    "vscode": {
     "languageId": "polyglot-notebook"
    }
   },
   "outputs": [],
   "source": [
    "import pickle\n",
    "with open ('../static/model/sentiment_model.pickle','wb') as file:\n",
    "    pickle.dump(mnb,file)"
   ]
  },
  {
   "cell_type": "markdown",
   "id": "ca42dc34-e608-488d-a60c-5f0c311a5f1b",
   "metadata": {},
   "source": [
    "### Model Training & Evaluation for Categorization"
   ]
  },
  {
   "cell_type": "markdown",
   "id": "05ef6855-9de7-455c-9ff8-e459908e715b",
   "metadata": {},
   "source": [
    "##### logistic regression"
   ]
  },
  {
   "cell_type": "code",
   "execution_count": 242,
   "id": "675bc726-ea3a-42a0-b7f5-988a3abfae96",
   "metadata": {
    "vscode": {
     "languageId": "polyglot-notebook"
    }
   },
   "outputs": [],
   "source": [
    "lrc=LogisticRegression()\n",
    "lrc.fit(vectorized_X_train_smote_category,Z_train_smote)"
   ]
  },
  {
   "cell_type": "code",
   "execution_count": 243,
   "id": "829ab2c6-bdd0-40a8-aaf5-b9b5919b0d61",
   "metadata": {
    "vscode": {
     "languageId": "polyglot-notebook"
    }
   },
   "outputs": [],
   "source": [
    "Z_train_predict=lrc.predict(vectorized_X_train_smote_category)"
   ]
  },
  {
   "cell_type": "code",
   "execution_count": 246,
   "id": "71d91d85-0ece-420f-a575-84f15b03ffae",
   "metadata": {
    "vscode": {
     "languageId": "polyglot-notebook"
    }
   },
   "outputs": [],
   "source": [
    "Z_train_predict"
   ]
  },
  {
   "cell_type": "code",
   "execution_count": 247,
   "id": "71914357-44de-4ec6-af95-9b22edef2dd2",
   "metadata": {
    "vscode": {
     "languageId": "polyglot-notebook"
    }
   },
   "outputs": [],
   "source": [
    "Z_train_smote"
   ]
  },
  {
   "cell_type": "code",
   "execution_count": 248,
   "id": "6395f056-7bbf-4ace-a8ed-6a8dc02310f9",
   "metadata": {
    "vscode": {
     "languageId": "polyglot-notebook"
    }
   },
   "outputs": [],
   "source": [
    "training_scores(Z_train_smote,Z_train_predict)"
   ]
  },
  {
   "cell_type": "code",
   "execution_count": 252,
   "id": "a9d2518a-628b-4fbc-b760-6d0aaf155d21",
   "metadata": {
    "vscode": {
     "languageId": "polyglot-notebook"
    }
   },
   "outputs": [],
   "source": [
    "Z_test_predict=lrc.predict(vectorized_X_test)"
   ]
  },
  {
   "cell_type": "code",
   "execution_count": 255,
   "id": "3787e5d0-2ec8-40de-a1cf-bf8c93e3100c",
   "metadata": {
    "vscode": {
     "languageId": "polyglot-notebook"
    }
   },
   "outputs": [],
   "source": [
    "Z_test_predict"
   ]
  },
  {
   "cell_type": "code",
   "execution_count": 256,
   "id": "04d4bedc-76b7-4843-ac8c-1890daa80cf5",
   "metadata": {
    "vscode": {
     "languageId": "polyglot-notebook"
    }
   },
   "outputs": [],
   "source": [
    "Z_test"
   ]
  },
  {
   "cell_type": "code",
   "execution_count": 257,
   "id": "f931010f-2b52-4736-96b4-e7eadc5884de",
   "metadata": {
    "vscode": {
     "languageId": "polyglot-notebook"
    }
   },
   "outputs": [],
   "source": [
    " validation_scores(Z_test, Z_test_predict)"
   ]
  },
  {
   "cell_type": "markdown",
   "id": "6f0085f6-785a-40cd-8ce2-c0763a350de1",
   "metadata": {},
   "source": [
    "##### Naive Baiyes"
   ]
  },
  {
   "cell_type": "code",
   "execution_count": 258,
   "id": "b2f19f06-8eb7-4974-9b0d-bac8afbac34f",
   "metadata": {
    "vscode": {
     "languageId": "polyglot-notebook"
    }
   },
   "outputs": [],
   "source": [
    "mnbc=MultinomialNB()\n",
    "mnbc.fit(vectorized_X_train_smote_category,Z_train_smote)\n",
    "Z_train_predict=mnbc.predict(vectorized_X_train_smote_category)\n",
    "Z_test_predict=mnbc.predict(vectorized_X_test)\n",
    "training_scores(Z_train_smote,Z_train_predict)\n",
    "validation_scores(Z_test, Z_test_predict)"
   ]
  },
  {
   "cell_type": "markdown",
   "id": "45d30c67-2f09-400d-9aa8-a2c4a4aaa841",
   "metadata": {},
   "source": [
    "##### Decision Tree"
   ]
  },
  {
   "cell_type": "code",
   "execution_count": 259,
   "id": "b1fe38dd-1252-4e78-ab2e-ceebb4f8d0ec",
   "metadata": {
    "vscode": {
     "languageId": "polyglot-notebook"
    }
   },
   "outputs": [],
   "source": [
    "dtc=DecisionTreeClassifier()\n",
    "dtc.fit(vectorized_X_train_smote_category,Z_train_smote)\n",
    "Z_train_predict=dtc.predict(vectorized_X_train_smote_category)\n",
    "Z_test_predict=dtc.predict(vectorized_X_test)\n",
    "training_scores(Z_train_smote,Z_train_predict)\n",
    "validation_scores(Z_test, Z_test_predict)"
   ]
  },
  {
   "cell_type": "markdown",
   "id": "e9908128-bb52-4f99-b8bb-6b6c566dfcc6",
   "metadata": {},
   "source": [
    "##### Random Forest"
   ]
  },
  {
   "cell_type": "code",
   "execution_count": 260,
   "id": "e060aaa0-7aa6-42b4-a890-5f64f8881a70",
   "metadata": {
    "vscode": {
     "languageId": "polyglot-notebook"
    }
   },
   "outputs": [],
   "source": [
    "rfc=RandomForestClassifier()\n",
    "rfc.fit(vectorized_X_train_smote_category,Z_train_smote)\n",
    "Z_train_predict=rfc.predict(vectorized_X_train_smote_category)\n",
    "Z_test_predict=rfc.predict(vectorized_X_test)\n",
    "training_scores(Z_train_smote,Z_train_predict)\n",
    "validation_scores(Z_test, Z_test_predict)"
   ]
  },
  {
   "cell_type": "markdown",
   "id": "e6b08382-898b-40cf-89aa-83e2c5d2c04c",
   "metadata": {},
   "source": [
    "##### Support vector machine"
   ]
  },
  {
   "cell_type": "code",
   "execution_count": 261,
   "id": "4e126afa-4f9b-49a4-8767-f690cc5ecb66",
   "metadata": {
    "vscode": {
     "languageId": "polyglot-notebook"
    }
   },
   "outputs": [],
   "source": [
    "svmc=SVC()\n",
    "svmc.fit(vectorized_X_train_smote_category,Z_train_smote)\n",
    "Z_train_predict=svmc.predict(vectorized_X_train_smote_category)\n",
    "Z_test_predict=svmc.predict(vectorized_X_test)\n",
    "training_scores(Z_train_smote,Z_train_predict)\n",
    "validation_scores(Z_test, Z_test_predict)"
   ]
  },
  {
   "cell_type": "markdown",
   "id": "06c6b66f-8964-4f40-9308-704ac20857f9",
   "metadata": {},
   "source": [
    "### Saving the model"
   ]
  },
  {
   "cell_type": "code",
   "execution_count": 262,
   "id": "039e0ac3-8408-4be0-94ce-1cffcc0303a8",
   "metadata": {
    "vscode": {
     "languageId": "polyglot-notebook"
    }
   },
   "outputs": [],
   "source": [
    "import pickle\n",
    "with open ('../static/model/categorization_model.pickle','wb') as file:\n",
    "    pickle.dump(mnbc,file)"
   ]
  },
  {
   "cell_type": "code",
   "execution_count": null,
   "id": "6b7ebe91-21e5-46e7-a566-82734d65295a",
   "metadata": {
    "vscode": {
     "languageId": "polyglot-notebook"
    }
   },
   "outputs": [],
   "source": []
  }
 ],
 "metadata": {
  "kernelspec": {
   "display_name": ".NET (C#)",
   "language": "C#",
   "name": ".net-csharp"
  },
  "language_info": {
   "codemirror_mode": {
    "name": "ipython",
    "version": 3
   },
   "file_extension": ".py",
   "mimetype": "text/x-python",
   "name": "python",
   "nbconvert_exporter": "python",
   "pygments_lexer": "ipython3",
   "version": "3.13.0"
  },
  "polyglot_notebook": {
   "kernelInfo": {
    "defaultKernelName": "csharp",
    "items": [
     {
      "aliases": [],
      "name": "csharp"
     }
    ]
   }
  }
 },
 "nbformat": 4,
 "nbformat_minor": 5
}
